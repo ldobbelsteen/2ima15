{
 "cells": [
  {
   "cell_type": "code",
   "execution_count": 1,
   "metadata": {},
   "outputs": [
    {
     "name": "stdout",
     "output_type": "stream",
     "text": [
      "Building DCEL...\n",
      "Finished building DCEL.\n",
      "Subdividing the polygon into y-monotone pieces...\n",
      "Finished subdividing the polygon into y-monotone pieces.\n",
      "Recomputing faces...\n",
      "Finished recomputing faces.\n",
      "Triangulating y-monotone pieces...\n",
      "Face!\n",
      "Inserting edge3: ((352, 672), (384, 720))\n",
      "Face!\n",
      "Inserting edge3: ((326, 640), (432, 640))\n",
      "Inserting overlapping edge: ((326, 640), (432, 640))\n",
      "Inserting edge3: ((326, 640), (458, 640))\n",
      "Inserting overlapping edge: ((326, 640), (458, 640))\n",
      "Inserting edge3: ((326, 640), (458, 672))\n",
      "Inserting edge3: ((326, 640), (432, 672))\n",
      "Inserting edge3: ((326, 640), (400, 672))\n",
      "Inserting edge3: ((326, 640), (384, 672))\n",
      "Inserting edge3: ((326, 640), (352, 672))\n",
      "Face!\n",
      "Inserting edge3: ((352, 608), (432, 640))\n",
      "Face!\n",
      "Inserting edge3: ((240, 576), (496, 576))\n",
      "Inserting overlapping edge: ((240, 576), (496, 576))\n",
      "Inserting edge3: ((240, 576), (544, 576))\n",
      "Inserting overlapping edge: ((240, 576), (544, 576))\n",
      "Inserting edge3: ((240, 576), (544, 608))\n",
      "Inserting edge3: ((240, 576), (496, 608))\n",
      "Inserting edge3: ((240, 576), (464, 608))\n",
      "Inserting edge3: ((240, 576), (432, 608))\n",
      "Inserting edge3: ((240, 576), (352, 608))\n",
      "Inserting edge3: ((240, 576), (320, 608))\n",
      "Inserting edge3: ((240, 576), (288, 608))\n",
      "Face!\n",
      "Inserting edge3: ((288, 608), (320, 634))\n",
      "Face!\n",
      "Inserting edge3: ((288, 560), (496, 576))\n",
      "Face!\n",
      "Inserting edge3: ((240, 528), (320, 528))\n",
      "Inserting overlapping edge: ((240, 528), (320, 528))\n",
      "Inserting edge3: ((240, 528), (352, 528))\n",
      "Inserting overlapping edge: ((240, 528), (352, 528))\n",
      "Inserting edge3: ((240, 528), (432, 528))\n",
      "Inserting overlapping edge: ((240, 528), (432, 528))\n",
      "Inserting edge3: ((240, 528), (464, 528))\n",
      "Inserting overlapping edge: ((240, 528), (464, 528))\n",
      "Inserting edge3: ((240, 528), (496, 528))\n",
      "Inserting overlapping edge: ((240, 528), (496, 528))\n",
      "Inserting edge3: ((240, 528), (544, 528))\n",
      "Inserting overlapping edge: ((240, 528), (544, 528))\n",
      "Inserting edge3: ((240, 528), (544, 560))\n",
      "Inserting edge3: ((240, 528), (496, 560))\n",
      "Inserting edge3: ((240, 528), (288, 560))\n",
      "Face!\n",
      "Inserting edge3: ((288, 502), (320, 528))\n",
      "Face!\n",
      "Inserting edge3: ((352, 496), (432, 528))\n",
      "Face!\n",
      "Inserting edge3: ((326, 464), (384, 464))\n",
      "Inserting overlapping edge: ((326, 464), (384, 464))\n",
      "Inserting edge3: ((326, 464), (400, 464))\n",
      "Inserting overlapping edge: ((326, 464), (400, 464))\n",
      "Inserting edge3: ((326, 464), (432, 464))\n",
      "Inserting overlapping edge: ((326, 464), (432, 464))\n",
      "Inserting edge3: ((326, 464), (458, 464))\n",
      "Inserting overlapping edge: ((326, 464), (458, 464))\n",
      "Inserting edge3: ((326, 464), (458, 496))\n",
      "Inserting edge3: ((326, 464), (432, 496))\n",
      "Inserting edge3: ((326, 464), (352, 496))\n",
      "Face!\n",
      "Inserting edge3: ((352, 416), (384, 464))\n",
      "Face!\n",
      "Inserting edge3: ((400, 416), (432, 464))\n",
      "Face!\n",
      "Inserting edge3: ((464, 502), (496, 528))\n",
      "Face!\n",
      "Inserting edge3: ((464, 608), (496, 634))\n",
      "Face!\n",
      "Inserting edge3: ((400, 672), (432, 720))\n",
      "Recomputing faces...\n",
      "Finished recomputing faces.\n",
      "Finished triangulating y-monotone pieces.\n"
     ]
    }
   ],
   "source": [
    "# tell interpreter where to look\n",
    "from datastructures.Rationals import Rationals as rat\n",
    "from datastructures.Edgebst import *\n",
    "from datastructures.DCEL import *\n",
    "from visualize.VisualizePolygons import *\n",
    "from algorithms.MakeMonotone import *\n",
    "from algorithms.triangulate import *\n",
    "\n",
    "f = open(\"instances/socg_fixed60.instance.json\")\n",
    "#f = open(\"../instances/ccheese142.instance.json\")\n",
    "polygon = json.load(f)\n",
    "polygon_DCEL = DCEL(polygon[\"outer_boundary\"], polygon[\"holes\"])\n",
    "make_monotone(polygon_DCEL)\n",
    "triangulate_monotone_polygon(polygon_DCEL)\n",
    "drawPolygon(polygon, solution=polygon_DCEL.format_solution(), resolution=10)\n",
    "\n",
    "# test DCEL for validity\n",
    "dcel = polygon_DCEL\n",
    "for v in dcel.vertices:\n",
    "    if v.x == None or v.y == None or v.incident_half_edge == None:\n",
    "        raise Exception(\"Nonevalue for vertex attribute\")\n",
    "    \n",
    "    if not v.incident_half_edge.twin.next.origin == v:\n",
    "        raise Exception(\"Incorrect DCEL\")\n",
    "\n",
    "for h in dcel.half_edges:\n",
    "    if h.origin == None or h.twin == None or h.incident_face == None or h.next == None or h.prev == None:\n",
    "        raise Exception(\"Nonevalue for half edge attribute\")\n",
    "    \n",
    "    if h.next.prev != h:\n",
    "        raise Exception(\"Prev-next issue!\")\n",
    "    if h.twin.twin != h:\n",
    "        raise Exception(\"Prev-next issue!\")"
   ]
  },
  {
   "cell_type": "code",
   "execution_count": 2,
   "metadata": {},
   "outputs": [
    {
     "name": "stdout",
     "output_type": "stream",
     "text": [
      "Recomputing faces...\n",
      "Finished recomputing faces.\n"
     ]
    }
   ],
   "source": [
    "polygon_DCEL.recompute_faces()\n",
    "drawPolygon(polygon, solution=polygon_DCEL.format_solution(), resolution=10, lines=[((326, 640), (432, 640))])"
   ]
  }
 ],
 "metadata": {
  "kernelspec": {
   "display_name": "Python 3",
   "language": "python",
   "name": "python3"
  },
  "language_info": {
   "codemirror_mode": {
    "name": "ipython",
    "version": 3
   },
   "file_extension": ".py",
   "mimetype": "text/x-python",
   "name": "python",
   "nbconvert_exporter": "python",
   "pygments_lexer": "ipython3",
   "version": "3.11.1"
  },
  "orig_nbformat": 4,
  "vscode": {
   "interpreter": {
    "hash": "0c22aca871109bb55c3c29181730e5e480ec832b1a6142f41547c31e09081f02"
   }
  }
 },
 "nbformat": 4,
 "nbformat_minor": 2
}
