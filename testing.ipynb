{
 "cells": [
  {
   "cell_type": "code",
   "execution_count": 1,
   "metadata": {},
   "outputs": [
    {
     "name": "stdout",
     "output_type": "stream",
     "text": [
      "ccheese142.instance.json - Score: 103\n",
      "ccheese4390.instance.json - Score: 3360\n",
      "example_instance1.instance.json - Score: 5\n",
      "fpg-poly_0000000020_h1.instance.json - Score: 13\n",
      "fpg-poly_0000000020_h2.instance.json - Score: 17\n",
      "fpg-poly_0000004900_h2.instance.json - Score: 2594\n",
      "maze_79_50_05_005.instance.json - Score: 35\n",
      "maze_4344_250_001_01.instance.json - Score: 1377\n",
      "socg60.instance.json - Score: 15\n",
      "srpg_iso_aligned_mc0000088.instance.json - Score: 33\n",
      "srpg_iso_aligned_mc0001336.instance.json - Score: 488\n",
      "srpg_iso_mc0000080.instance.json - Score: 44\n",
      "srpg_octa_mc0000082.instance.json - Score: 29\n",
      "srpg_octa_mc0000784.instance.json - Score: 319\n",
      "srpg_smo_mc0005962.instance.json - Score: 2478\n"
     ]
    }
   ],
   "source": [
    "import json\n",
    "from datastructures.rationals import *\n",
    "from datastructures.edgebst import *\n",
    "from datastructures.dcel import *\n",
    "from visualize.render import *\n",
    "from algorithms.monotonize import *\n",
    "from algorithms.triangulate import *\n",
    "from algorithms.merge import *\n",
    "\n",
    "instances = [\n",
    "    \"ccheese142.instance.json\",\n",
    "    \"ccheese4390.instance.json\",\n",
    "    \"example_instance1.instance.json\",\n",
    "    \"fpg-poly_0000000020_h1.instance.json\",\n",
    "    \"fpg-poly_0000000020_h2.instance.json\",\n",
    "    \"fpg-poly_0000004900_h2.instance.json\",\n",
    "    \"maze_79_50_05_005.instance.json\",\n",
    "    \"maze_4344_250_001_01.instance.json\",\n",
    "    \"socg60.instance.json\",\n",
    "    \"srpg_iso_aligned_mc0000088.instance.json\",\n",
    "    \"srpg_iso_aligned_mc0001336.instance.json\",\n",
    "    \"srpg_iso_mc0000080.instance.json\",\n",
    "    \"srpg_octa_mc0000082.instance.json\",\n",
    "    \"srpg_octa_mc0000784.instance.json\",\n",
    "    \"srpg_smo_mc0005962.instance.json\",\n",
    "]\n",
    "\n",
    "for instance in instances:\n",
    "    file = open(f\"instances/{instance}\")\n",
    "    poly = json.load(file)\n",
    "    dcel = DCEL(poly[\"outer_boundary\"], poly[\"holes\"])\n",
    "\n",
    "    monotonize_polygon(dcel)\n",
    "    triangulate_monotone(dcel, triangulate_convex_faces=False)\n",
    "    bruteforce_merge_adjacent_faces(dcel)\n",
    "\n",
    "    print(f\"{instance} - Score: {len(dcel.interior_faces())}\")\n",
    "    file.close()\n",
    "    \n",
    "    if instance == \"ccheese142.instance.json\":\n",
    "        render_polygon(poly, solution=dcel.format_solution())"
   ]
  }
 ],
 "metadata": {
  "kernelspec": {
   "display_name": "Python 3",
   "language": "python",
   "name": "python3"
  },
  "language_info": {
   "codemirror_mode": {
    "name": "ipython",
    "version": 3
   },
   "file_extension": ".py",
   "mimetype": "text/x-python",
   "name": "python",
   "nbconvert_exporter": "python",
   "pygments_lexer": "ipython3",
   "version": "3.11.1"
  },
  "orig_nbformat": 4,
  "vscode": {
   "interpreter": {
    "hash": "e7370f93d1d0cde622a1f8e1c04877d8463912d04d973331ad4851f04de6915a"
   }
  }
 },
 "nbformat": 4,
 "nbformat_minor": 2
}
