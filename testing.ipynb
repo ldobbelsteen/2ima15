{
 "cells": [
  {
   "cell_type": "code",
   "execution_count": 1,
   "metadata": {},
   "outputs": [
    {
     "name": "stdout",
     "output_type": "stream",
     "text": [
      "ccheese142.instance.json - Faces: 106\n"
     ]
    }
   ],
   "source": [
    "import os\n",
    "import glob\n",
    "import json\n",
    "from datastructures.rationals import *\n",
    "from datastructures.edgebst import *\n",
    "from datastructures.dcel import *\n",
    "from visualize.render import *\n",
    "from algorithms.monotonize import *\n",
    "from algorithms.triangulate import *\n",
    "from algorithms.merge import *\n",
    "\n",
    "instances_dir = \"instances/2ima15\"\n",
    "instance_files = glob.glob(instances_dir + \"/*.instance.json\")\n",
    "\n",
    "for instance_file in instance_files:\n",
    "    instance_name = os.path.basename(instance_file)\n",
    "    result_file = instance_file.replace(\"instance.json\", \"result.json\")\n",
    "\n",
    "    input = open(instance_file, \"r\")\n",
    "    poly = json.load(input)\n",
    "    input.close()\n",
    "\n",
    "    dcel = DCEL(poly[\"outer_boundary\"], poly[\"holes\"])\n",
    "\n",
    "    monotonize_polygon(dcel)\n",
    "    triangulate_monotone(dcel, triangulate_convex_faces=False)\n",
    "    bruteforce_merge_adjacent_faces(dcel)\n",
    "\n",
    "    print(f\"{instance_name} - Faces: {len(dcel.interior_faces())}\")\n",
    "\n",
    "    export = dcel.format_solution()\n",
    "    export[\"instance\"] = poly[\"name\"]\n",
    "    export[\"type\"] = poly[\"type\"]\n",
    "\n",
    "    output = open(result_file, \"w\")\n",
    "    output.write(json.dumps(export))\n",
    "    output.close()\n",
    "    \n",
    "    if instance_name == \"ccheese142.instance.json\":\n",
    "        render_polygon(poly, solution=dcel.format_solution())"
   ]
  }
 ],
 "metadata": {
  "kernelspec": {
   "display_name": "Python 3",
   "language": "python",
   "name": "python3"
  },
  "language_info": {
   "codemirror_mode": {
    "name": "ipython",
    "version": 3
   },
   "file_extension": ".py",
   "mimetype": "text/x-python",
   "name": "python",
   "nbconvert_exporter": "python",
   "pygments_lexer": "ipython3",
   "version": "3.11.1"
  },
  "orig_nbformat": 4,
  "vscode": {
   "interpreter": {
    "hash": "e7370f93d1d0cde622a1f8e1c04877d8463912d04d973331ad4851f04de6915a"
   }
  }
 },
 "nbformat": 4,
 "nbformat_minor": 2
}
