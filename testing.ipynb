{
 "cells": [
  {
   "cell_type": "code",
   "execution_count": 3,
   "metadata": {},
   "outputs": [
    {
     "name": "stdout",
     "output_type": "stream",
     "text": [
      "Building DCEL...\n",
      "Finished building DCEL.\n",
      "Subdividing the polygon into y-monotone pieces...\n",
      "Finished subdividing the polygon into y-monotone pieces.\n",
      "Recomputing faces...\n",
      "Finished recomputing faces.\n",
      "Triangulating y-monotone pieces...\n",
      "Recomputing faces...\n",
      "Finished recomputing faces.\n",
      "Finished triangulating y-monotone pieces.\n"
     ]
    },
    {
     "ename": "OverflowError",
     "evalue": "Python int too large to convert to C long",
     "output_type": "error",
     "traceback": [
      "\u001b[1;31m---------------------------------------------------------------------------\u001b[0m",
      "\u001b[1;31mOverflowError\u001b[0m                             Traceback (most recent call last)",
      "Cell \u001b[1;32mIn[3], line 14\u001b[0m\n\u001b[0;32m     12\u001b[0m make_monotone(polygon_DCEL)\n\u001b[0;32m     13\u001b[0m triangulate_monotone_polygon(polygon_DCEL)\n\u001b[1;32m---> 14\u001b[0m drawPolygon(polygon, solution\u001b[39m=\u001b[39;49mpolygon_DCEL\u001b[39m.\u001b[39;49mformat_solution(), resolution\u001b[39m=\u001b[39;49m\u001b[39m10\u001b[39;49m)\n",
      "File \u001b[1;32mc:\\Users\\20191696\\Desktop\\Homework\\mcs\\q2\\Geometric\\project\\2ima15\\visualize\\VisualizePolygons.py:43\u001b[0m, in \u001b[0;36mdrawPolygon\u001b[1;34m(polygon, solution, resolution, name, lines, points)\u001b[0m\n\u001b[0;32m     40\u001b[0m points \u001b[39m=\u001b[39m [(p[\u001b[39m0\u001b[39m]\u001b[39m*\u001b[39mresolution, height \u001b[39m-\u001b[39m p[\u001b[39m1\u001b[39m]\u001b[39m*\u001b[39mresolution) \u001b[39mfor\u001b[39;00m p \u001b[39min\u001b[39;00m points]\n\u001b[0;32m     42\u001b[0m \u001b[39m# Draw polygons                                                   \u001b[39;00m\n\u001b[1;32m---> 43\u001b[0m img \u001b[39m=\u001b[39m Image\u001b[39m.\u001b[39;49mnew(\u001b[39m\"\u001b[39;49m\u001b[39mRGB\u001b[39;49m\u001b[39m\"\u001b[39;49m, size, \u001b[39m\"\u001b[39;49m\u001b[39mwhite\u001b[39;49m\u001b[39m\"\u001b[39;49m) \n\u001b[0;32m     44\u001b[0m img1 \u001b[39m=\u001b[39m ImageDraw\u001b[39m.\u001b[39mDraw(img)  \n\u001b[0;32m     45\u001b[0m img1\u001b[39m.\u001b[39mpolygon(outer_boundary_xy, fill\u001b[39m=\u001b[39m\u001b[39m\"\u001b[39m\u001b[39m#eeeeff\u001b[39m\u001b[39m\"\u001b[39m, outline\u001b[39m=\u001b[39m\u001b[39mNone\u001b[39;00m)\n",
      "File \u001b[1;32mc:\\Users\\20191696\\AppData\\Local\\Programs\\Python\\Python311\\Lib\\site-packages\\PIL\\Image.py:2932\u001b[0m, in \u001b[0;36mnew\u001b[1;34m(mode, size, color)\u001b[0m\n\u001b[0;32m   2930\u001b[0m     im\u001b[39m.\u001b[39mpalette \u001b[39m=\u001b[39m ImagePalette\u001b[39m.\u001b[39mImagePalette()\n\u001b[0;32m   2931\u001b[0m     color \u001b[39m=\u001b[39m im\u001b[39m.\u001b[39mpalette\u001b[39m.\u001b[39mgetcolor(color)\n\u001b[1;32m-> 2932\u001b[0m \u001b[39mreturn\u001b[39;00m im\u001b[39m.\u001b[39m_new(core\u001b[39m.\u001b[39;49mfill(mode, size, color))\n",
      "\u001b[1;31mOverflowError\u001b[0m: Python int too large to convert to C long"
     ]
    }
   ],
   "source": [
    "# tell interpreter where to look\n",
    "from datastructures.Rationals import Rationals as rat\n",
    "from datastructures.Edgebst import *\n",
    "from datastructures.DCEL import *\n",
    "from visualize.VisualizePolygons import *\n",
    "from algorithms.MakeMonotone import *\n",
    "from algorithms.triangulate import *\n",
    "\n",
    "f = open(\"instances/fpg-poly_0000004900_h2.instance.json\")\n",
    "polygon = json.load(f)\n",
    "polygon_DCEL = DCEL(polygon[\"outer_boundary\"], polygon[\"holes\"])\n",
    "make_monotone(polygon_DCEL)\n",
    "triangulate_monotone_polygon(polygon_DCEL)\n",
    "drawPolygon(polygon, solution=polygon_DCEL.format_solution(), resolution=10)"
   ]
  }
 ],
 "metadata": {
  "kernelspec": {
   "display_name": "Python 3",
   "language": "python",
   "name": "python3"
  },
  "language_info": {
   "codemirror_mode": {
    "name": "ipython",
    "version": 3
   },
   "file_extension": ".py",
   "mimetype": "text/x-python",
   "name": "python",
   "nbconvert_exporter": "python",
   "pygments_lexer": "ipython3",
   "version": "3.11.1"
  },
  "orig_nbformat": 4,
  "vscode": {
   "interpreter": {
    "hash": "0c22aca871109bb55c3c29181730e5e480ec832b1a6142f41547c31e09081f02"
   }
  }
 },
 "nbformat": 4,
 "nbformat_minor": 2
}
