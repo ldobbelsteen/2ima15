{
 "cells": [
  {
   "cell_type": "code",
   "execution_count": 1,
   "metadata": {},
   "outputs": [
    {
     "name": "stdout",
     "output_type": "stream",
     "text": [
      "ccheese142.instance.json (rotated 1 times, seed 0) - Faces: 96\n",
      "ccheese4390.instance.json (rotated 3 times, seed 0) - Faces: 3224\n",
      "example_instance1.instance.json (rotated 0 times, seed 0) - Faces: 5\n",
      "fpg-poly_0000000020_h1.instance.json (rotated 1 times, seed 0) - Faces: 11\n",
      "fpg-poly_0000000020_h2.instance.json (rotated 0 times, seed 0) - Faces: 17\n",
      "fpg-poly_0000004900_h2.instance.json (rotated 2 times, seed 0) - Faces: 2492\n",
      "maze_4344_250_001_01.instance.json (rotated 1 times, seed 0) - Faces: 1286\n",
      "maze_79_50_05_005.instance.json (rotated 3 times, seed 0) - Faces: 29\n",
      "socg60.instance.json (rotated 0 times, seed 0) - Faces: 15\n",
      "srpg_iso_aligned_mc0000088.instance.json (rotated 1 times, seed 0) - Faces: 26\n",
      "srpg_iso_aligned_mc0001336.instance.json (rotated 1 times, seed 0) - Faces: 450\n",
      "srpg_iso_mc0000080.instance.json (rotated 2 times, seed 0) - Faces: 41\n",
      "srpg_octa_mc0000082.instance.json (rotated 0 times, seed 0) - Faces: 28\n",
      "srpg_octa_mc0000784.instance.json (rotated 1 times, seed 0) - Faces: 301\n",
      "srpg_smo_mc0005962.instance.json (rotated 2 times, seed 0) - Faces: 2270\n",
      "Total score: 10291\n"
     ]
    }
   ],
   "source": [
    "import os\n",
    "import glob\n",
    "import json\n",
    "import random\n",
    "from datastructures.rationals import *\n",
    "from datastructures.edgebst import *\n",
    "from datastructures.dcel import *\n",
    "from visualize.render import *\n",
    "from algorithms.monotonize import *\n",
    "from algorithms.triangulate import *\n",
    "from algorithms.merge import *\n",
    "\n",
    "instances_dir = \"instances/2ima15\"\n",
    "instance_files = glob.glob(instances_dir + \"/*.instance.json\")\n",
    "# Range of seeds to be used when using random_permutation\n",
    "seeds = range(1)\n",
    "\n",
    "def compute_convex_cover(dcel, times_rotated, permutation):\n",
    "    dcel.rotate_right(times_rotated)\n",
    "    monotonize_polygon(dcel)\n",
    "    triangulate_monotone(dcel, triangulate_convex_faces=False)\n",
    "    hertel_mehlhorn(dcel, permutation)\n",
    "    bruteforce_merge_indirect_neighbours(dcel)\n",
    "    dcel.rotate_left(times_rotated)\n",
    "    return len(dcel.interior_faces())\n",
    "\n",
    "def random_permutation(diagonals, seed):\n",
    "    # Randomly shuffles diagonals\n",
    "    random.seed(seed)\n",
    "    random.shuffle(diagonals)\n",
    "\n",
    "def sort_on_yx(diagonals):\n",
    "    # Sorts diagonals on lexicographically on their lower endpoint, first y then x\n",
    "    diagonals.sort(key=lambda h: (h.origin.y, h.origin.x))\n",
    "\n",
    "def sort_on_face(diagonals):\n",
    "    # Sorts diagonals on their incident faces, the faces are lexicographically ordered on the origin of their outer component\n",
    "    diagonals.sort(key=lambda h: (h.incident_face.outer_component.origin.x, h.incident_face.outer_component.origin.y))\n",
    "\n",
    "total_score = 0\n",
    "for instance_file in instance_files:\n",
    "    instance_name = os.path.basename(instance_file)\n",
    "    result_file = instance_file.replace(\"instance.json\", \"result.json\")\n",
    "\n",
    "    input = open(instance_file, \"r\")\n",
    "    poly = json.load(input)\n",
    "    input.close()\n",
    "    \n",
    "    min_result = float(\"inf\")\n",
    "    opt_rotation = None\n",
    "    opt_solution = None\n",
    "    opt_seed = None\n",
    "    for seed in seeds:\n",
    "        for times_rotated in range(4):\n",
    "            dcel = DCEL(poly[\"outer_boundary\"], poly[\"holes\"])\n",
    "            result = compute_convex_cover(dcel, times_rotated, permutation=sort_on_yx) # Permutation here can be changed to test different results\n",
    "            if result < min_result:\n",
    "                min_result = result\n",
    "                opt_rotation = times_rotated\n",
    "                opt_solution = dcel.format_solution()\n",
    "                opt_seed = seed\n",
    "\n",
    "    print(f\"{instance_name} (rotated {opt_rotation} times, seed {opt_seed}) - Faces: {min_result}\")\n",
    "    total_score += min_result\n",
    "    export = opt_solution\n",
    "\n",
    "    export[\"instance\"] = poly[\"name\"]\n",
    "    export[\"type\"] = poly[\"type\"]\n",
    "\n",
    "    output = open(result_file, \"w\")\n",
    "    output.write(json.dumps(export))\n",
    "    output.close()\n",
    "    \n",
    "    if instance_name == \"ccheese142.instance.json\":\n",
    "        render_polygon(poly, solution=export)\n",
    "\n",
    "print(f\"Total score: {total_score}\")"
   ]
  }
 ],
 "metadata": {
  "kernelspec": {
   "display_name": "Python 3",
   "language": "python",
   "name": "python3"
  },
  "language_info": {
   "codemirror_mode": {
    "name": "ipython",
    "version": 3
   },
   "file_extension": ".py",
   "mimetype": "text/x-python",
   "name": "python",
   "nbconvert_exporter": "python",
   "pygments_lexer": "ipython3",
   "version": "3.11.1 (tags/v3.11.1:a7a450f, Dec  6 2022, 19:58:39) [MSC v.1934 64 bit (AMD64)]"
  },
  "orig_nbformat": 4,
  "vscode": {
   "interpreter": {
    "hash": "0c22aca871109bb55c3c29181730e5e480ec832b1a6142f41547c31e09081f02"
   }
  }
 },
 "nbformat": 4,
 "nbformat_minor": 2
}
