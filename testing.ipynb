{
 "cells": [
  {
   "cell_type": "code",
   "execution_count": 3,
   "metadata": {},
   "outputs": [
    {
     "name": "stdout",
     "output_type": "stream",
     "text": [
      "instances/2ima15/srpg_iso_mc0000080.instance.json - Score: 44\n",
      "instances/2ima15/socg60.instance.json - Score: 15\n",
      "instances/2ima15/ccheese4390.instance.json - Score: 3360\n",
      "instances/2ima15/srpg_octa_mc0000784.instance.json - Score: 319\n",
      "instances/2ima15/fpg-poly_0000000020_h2.instance.json - Score: 17\n",
      "instances/2ima15/example_instance1.instance.json - Score: 5\n",
      "instances/2ima15/ccheese142.instance.json - Score: 103\n",
      "instances/2ima15/fpg-poly_0000000020_h1.instance.json - Score: 13\n"
     ]
    }
   ],
   "source": [
    "import os\n",
    "import json\n",
    "from datastructures.rationals import *\n",
    "from datastructures.edgebst import *\n",
    "from datastructures.dcel import *\n",
    "from visualize.render import *\n",
    "from algorithms.monotonize import *\n",
    "from algorithms.triangulate import *\n",
    "from algorithms.merge import *\n",
    "\n",
    "instances_dir = \"instances/2ima15\"\n",
    "instance_files = [os.path.join(instances_dir, f) for f in os.listdir(instances_dir)]\n",
    "\n",
    "for instance_file in instance_files:\n",
    "    file = open(instance_file)\n",
    "    poly = json.load(file)\n",
    "    dcel = DCEL(poly[\"outer_boundary\"], poly[\"holes\"])\n",
    "\n",
    "    monotonize_polygon(dcel)\n",
    "    triangulate_monotone(dcel, triangulate_convex_faces=False)\n",
    "    bruteforce_merge_adjacent_faces(dcel)\n",
    "\n",
    "    print(f\"{instance_file} - Score: {len(dcel.interior_faces())}\")\n",
    "    file.close()\n",
    "\n",
    "    if instance_file == \"ccheese142.instance.json\":\n",
    "        render_polygon(poly, solution=dcel.format_solution())"
   ]
  }
 ],
 "metadata": {
  "kernelspec": {
   "display_name": "Python 3",
   "language": "python",
   "name": "python3"
  },
  "language_info": {
   "codemirror_mode": {
    "name": "ipython",
    "version": 3
   },
   "file_extension": ".py",
   "mimetype": "text/x-python",
   "name": "python",
   "nbconvert_exporter": "python",
   "pygments_lexer": "ipython3",
   "version": "3.11.1"
  },
  "orig_nbformat": 4,
  "vscode": {
   "interpreter": {
    "hash": "e7370f93d1d0cde622a1f8e1c04877d8463912d04d973331ad4851f04de6915a"
   }
  }
 },
 "nbformat": 4,
 "nbformat_minor": 2
}
