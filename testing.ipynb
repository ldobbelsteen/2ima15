{
 "cells": [
  {
   "cell_type": "code",
   "execution_count": 2,
   "metadata": {},
   "outputs": [
    {
     "name": "stdout",
     "output_type": "stream",
     "text": [
      "ccheese142.instance.json - Score: 201\n",
      "ccheese4390.instance.json - Score: 6480\n",
      "example_instance1.instance.json - Score: 9\n",
      "fpg-poly_0000000020_h1.instance.json - Score: 24\n",
      "fpg-poly_0000000020_h2.instance.json - Score: 29\n",
      "fpg-poly_0000004900_h2.instance.json - Score: 4838\n",
      "maze_79_50_05_005.instance.json - Score: 83\n",
      "maze_4344_250_001_01.instance.json - Score: 4720\n",
      "socg60.instance.json - Score: 15\n",
      "srpg_iso_aligned_mc0000088.instance.json - Score: 81\n",
      "srpg_iso_aligned_mc0001336.instance.json - Score: 1219\n",
      "srpg_iso_mc0000080.instance.json - Score: 81\n",
      "srpg_octa_mc0000082.instance.json - Score: 63\n",
      "srpg_octa_mc0000784.instance.json - Score: 770\n",
      "srpg_smo_mc0005962.instance.json - Score: 5920\n"
     ]
    }
   ],
   "source": [
    "# tell interpreter where to look\n",
    "from datastructures.Rationals import Rationals as rat\n",
    "from datastructures.Edgebst import *\n",
    "from datastructures.DCEL import *\n",
    "from visualize.VisualizePolygons import *\n",
    "from algorithms.MakeMonotone import *\n",
    "from algorithms.triangulate import *\n",
    "\n",
    "instances = [\n",
    "    \"ccheese142.instance.json\",\n",
    "    \"ccheese4390.instance.json\",\n",
    "    \"example_instance1.instance.json\",\n",
    "    \"fpg-poly_0000000020_h1.instance.json\",\n",
    "    \"fpg-poly_0000000020_h2.instance.json\",\n",
    "    \"fpg-poly_0000004900_h2.instance.json\",\n",
    "    \"maze_79_50_05_005.instance.json\",\n",
    "    \"maze_4344_250_001_01.instance.json\",\n",
    "    \"socg60.instance.json\",\n",
    "    \"srpg_iso_aligned_mc0000088.instance.json\",\n",
    "    \"srpg_iso_aligned_mc0001336.instance.json\",\n",
    "    \"srpg_iso_mc0000080.instance.json\",\n",
    "    \"srpg_octa_mc0000082.instance.json\",\n",
    "    \"srpg_octa_mc0000784.instance.json\",\n",
    "    \"srpg_smo_mc0005962.instance.json\",\n",
    "]\n",
    "\n",
    "for instance in instances:\n",
    "    f = open(f\"instances/{instance}\")\n",
    "    polygon = json.load(f)\n",
    "    polygon_DCEL = DCEL(polygon[\"outer_boundary\"], polygon[\"holes\"])\n",
    "    make_monotone(polygon_DCEL)\n",
    "    triangulate_monotone_polygon(polygon_DCEL, triangulate_convex_faces=False)\n",
    "    print(f\"{instance} - Score: {len(polygon_DCEL.interior_faces())}\")\n",
    "    f.close()\n",
    "\n",
    "    # Draw one instance for testing\n",
    "    if instance == \"socg60.instance.json\":\n",
    "        drawPolygon(polygon, solution=polygon_DCEL.format_solution())"
   ]
  }
 ],
 "metadata": {
  "kernelspec": {
   "display_name": "Python 3",
   "language": "python",
   "name": "python3"
  },
  "language_info": {
   "codemirror_mode": {
    "name": "ipython",
    "version": 3
   },
   "file_extension": ".py",
   "mimetype": "text/x-python",
   "name": "python",
   "nbconvert_exporter": "python",
   "pygments_lexer": "ipython3",
   "version": "3.11.1"
  },
  "orig_nbformat": 4,
  "vscode": {
   "interpreter": {
    "hash": "0c22aca871109bb55c3c29181730e5e480ec832b1a6142f41547c31e09081f02"
   }
  }
 },
 "nbformat": 4,
 "nbformat_minor": 2
}
