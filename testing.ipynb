{
 "cells": [
  {
   "cell_type": "code",
   "execution_count": 1,
   "metadata": {},
   "outputs": [
    {
     "name": "stdout",
     "output_type": "stream",
     "text": [
      "srpg_iso_mc0000080.instance.json - Faces: 44\n",
      "socg60.instance.json - Faces: 15\n",
      "ccheese4390.instance.json - Faces: 3360\n",
      "srpg_octa_mc0000784.instance.json - Faces: 319\n",
      "fpg-poly_0000000020_h2.instance.json - Faces: 17\n",
      "example_instance1.instance.json - Faces: 5\n",
      "fpg-poly_0000000020_h1.instance.json - Faces: 13\n",
      "maze_4344_250_001_01.instance.json - Faces: 1377\n",
      "srpg_iso_aligned_mc0000088.instance.json - Faces: 33\n",
      "fpg-poly_0000004900_h2.instance.json - Faces: 2594\n",
      "srpg_octa_mc0000082.instance.json - Faces: 29\n",
      "srpg_iso_aligned_mc0001336.instance.json - Faces: 488\n",
      "srpg_smo_mc0005962.instance.json - Faces: 2478\n",
      "maze_79_50_05_005.instance.json - Faces: 35\n",
      "ccheese142.instance.json - Faces: 103\n"
     ]
    }
   ],
   "source": [
    "import os\n",
    "import glob\n",
    "import json\n",
    "from datastructures.rationals import *\n",
    "from datastructures.edgebst import *\n",
    "from datastructures.dcel import *\n",
    "from visualize.render import *\n",
    "from algorithms.monotonize import *\n",
    "from algorithms.triangulate import *\n",
    "from algorithms.merge import *\n",
    "\n",
    "instances_dir = \"instances/2ima15\"\n",
    "instance_files = glob.glob(instances_dir + \"/*.instance.json\")\n",
    "\n",
    "for instance_file in instance_files:\n",
    "    instance_name = os.path.basename(instance_file)\n",
    "    result_file = instance_file.replace(\"instance.json\", \"result.json\")\n",
    "\n",
    "    input = open(instance_file, \"r\")\n",
    "    poly = json.load(input)\n",
    "    input.close()\n",
    "\n",
    "    dcel = DCEL(poly[\"outer_boundary\"], poly[\"holes\"])\n",
    "\n",
    "    monotonize_polygon(dcel)\n",
    "    triangulate_monotone(dcel, triangulate_convex_faces=False)\n",
    "    bruteforce_merge_adjacent_faces(dcel)\n",
    "\n",
    "    print(f\"{instance_name} - Faces: {len(dcel.interior_faces())}\")\n",
    "\n",
    "    export = dcel.format_solution()\n",
    "    export[\"instance\"] = poly[\"name\"]\n",
    "    export[\"type\"] = poly[\"type\"]\n",
    "\n",
    "    output = open(result_file, \"w\")\n",
    "    output.write(json.dumps(export))\n",
    "    output.close()\n",
    "    \n",
    "    if instance_file == \"cheese142.instance.json\":\n",
    "        render_polygon(dcel, solution=dcel.format_solution())"
   ]
  }
 ],
 "metadata": {
  "kernelspec": {
   "display_name": "Python 3",
   "language": "python",
   "name": "python3"
  },
  "language_info": {
   "codemirror_mode": {
    "name": "ipython",
    "version": 3
   },
   "file_extension": ".py",
   "mimetype": "text/x-python",
   "name": "python",
   "nbconvert_exporter": "python",
   "pygments_lexer": "ipython3",
   "version": "3.11.1"
  },
  "orig_nbformat": 4,
  "vscode": {
   "interpreter": {
    "hash": "e7370f93d1d0cde622a1f8e1c04877d8463912d04d973331ad4851f04de6915a"
   }
  }
 },
 "nbformat": 4,
 "nbformat_minor": 2
}
