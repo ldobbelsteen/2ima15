{
 "cells": [
  {
   "cell_type": "code",
   "execution_count": 1,
   "metadata": {},
   "outputs": [],
   "source": [
    "import sys\n",
    "# tell interpreter where to look\n",
    "sys.path.insert(0,\"..\")\n",
    "from datastructures.Rationals import Rationals as rat\n",
    "from datastructures.Edgebst import *\n",
    "from datastructures.DCEL import *\n",
    "from visualize.VisualizePolygons import *\n",
    "from algorithms.MakeMonotone import *\n",
    "f = open(\"../instances/ccheese142.instance.json\")\n",
    "polygon = json.load(f)\n",
    "polygon_DCEL = DCEL(polygon[\"outer_boundary\"], polygon[\"holes\"])\n",
    "#polygon = {\"outer_boundary\": [{\"x\": 10, \"y\": 10}, {\"x\": 7, \"y\": 9}, {\"x\": 6, \"y\": 6}, {\"x\": 9, \"y\": 2}, {\"x\": 11, \"y\": 0}, {\"x\": 14, \"y\": 4}, {\"x\": 15, \"y\":12}, {\"x\": 12, \"y\":9}], \"holes\": []}\n",
    "#polygon_DCEL = DCEL([{\"x\": 10, \"y\": 10}, {\"x\": 7, \"y\": 9}, {\"x\": 6, \"y\": 6}, {\"x\": 9, \"y\": 2}, {\"x\": 11, \"y\": 0}, {\"x\": 14, \"y\": 4}, {\"x\": 15, \"y\":12}, {\"x\": 12, \"y\":9}], [])\n",
    "\n",
    "#makeMonotone(polygon_DCEL)\n",
    "#polygon_DCEL.recompute_faces()\n",
    "points = [(p.x, p.y) for p in polygon_DCEL.vertices if p.type == VertexType.MERGE]\n",
    "drawPolygon(polygon, resolution=10, points=points)\n",
    "dcel = polygon_DCEL\n",
    "for v in dcel.vertices:\n",
    "    if v.x == None or v.y == None or v.incident_half_edge == None:\n",
    "        raise Exception(\"Nonevalue for vertex attribute\")\n",
    "    \n",
    "    if not v.incident_half_edge.twin.next.origin == v:\n",
    "        raise Exception(\"Incorrect DCEL\")\n",
    "\n",
    "for h in dcel.half_edges:\n",
    "    if h.origin == None or h.twin == None or h.incident_face == None or h.next == None or h.prev == None:\n",
    "        raise Exception(\"Nonevalue for half edge attribute\")\n",
    "    \n",
    "    if h.next.prev != h:\n",
    "        raise Exception(\"Prev-next issue!\")\n",
    "    if h.twin.twin != h:\n",
    "        raise Exception(\"Prev-next issue!\")"
   ]
  },
  {
   "cell_type": "code",
   "execution_count": 2,
   "metadata": {},
   "outputs": [
    {
     "name": "stdout",
     "output_type": "stream",
     "text": [
      "(1204, 1317), (1074, 1299)\n",
      "(1211, 1303), (1217, 1280)\n",
      "(1211, 1303), (1217, 1280)\n"
     ]
    }
   ],
   "source": [
    "v1, v2 = Vertex(1204, 1317), Vertex(1074, 1299)\n",
    "edge1 = HalfEdge(v1)\n",
    "edge2 = HalfEdge(v2)\n",
    "edge1.twin = edge2\n",
    "edge2.twin = edge1\n",
    "v3, v4 = Vertex(1211, 1303), Vertex(1217, 1280)\n",
    "edge3 = HalfEdge(v3)\n",
    "edge4 = HalfEdge(v4)\n",
    "edge3.twin = edge4\n",
    "edge4.twin = edge3\n",
    "\n",
    "tree = EdgebstNode()\n",
    "tree.insert(edge1, 1300)\n",
    "tree.insert(edge3, 1300)\n",
    "tree.print_nodes()\n",
    "tree = tree.delete(edge2, 1303)\n",
    "tree.print_nodes()"
   ]
  },
  {
   "cell_type": "code",
   "execution_count": 3,
   "metadata": {},
   "outputs": [],
   "source": [
    "polygon_DCEL.recompute_faces()\n",
    "drawPolygon(polygon, polygon_DCEL.format_solution(), resolution=10)"
   ]
  }
 ],
 "metadata": {
  "kernelspec": {
   "display_name": "Python 3",
   "language": "python",
   "name": "python3"
  },
  "language_info": {
   "codemirror_mode": {
    "name": "ipython",
    "version": 3
   },
   "file_extension": ".py",
   "mimetype": "text/x-python",
   "name": "python",
   "nbconvert_exporter": "python",
   "pygments_lexer": "ipython3",
   "version": "3.11.1"
  },
  "orig_nbformat": 4,
  "vscode": {
   "interpreter": {
    "hash": "0c22aca871109bb55c3c29181730e5e480ec832b1a6142f41547c31e09081f02"
   }
  }
 },
 "nbformat": 4,
 "nbformat_minor": 2
}
