{
 "cells": [
  {
   "cell_type": "code",
   "execution_count": 1,
   "metadata": {},
   "outputs": [
    {
     "name": "stdout",
     "output_type": "stream",
     "text": [
      "Now handling: VertexType.START\n",
      "Now handling: VertexType.REGULAR_LEFT\n",
      "Now handling: VertexType.SPLIT\n",
      "Inserting between: (1225,1314) and (1190,1306)\n",
      "Now handling: VertexType.REGULAR_RIGHT\n",
      "Now handling: VertexType.REGULAR_RIGHT\n",
      "Now handling: VertexType.REGULAR_LEFT\n",
      "Now handling: VertexType.SPLIT\n",
      "Inserting between: (1190,1297) and (1125,1291)\n",
      "Now handling: VertexType.REGULAR_LEFT\n",
      "Now handling: VertexType.SPLIT\n",
      "Inserting between: (1120,1289) and (1085,1287)\n",
      "Now handling: VertexType.MERGE\n",
      "Now handling: VertexType.REGULAR_RIGHT\n",
      "Now handling: VertexType.MERGE\n",
      "Now handling: VertexType.REGULAR_RIGHT\n",
      "Now handling: VertexType.SPLIT\n",
      "Inserting between: (1217,1280) and (1222,1278)\n",
      "Now handling: VertexType.REGULAR_RIGHT\n",
      "Now handling: VertexType.REGULAR_RIGHT\n",
      "Now handling: VertexType.REGULAR_LEFT\n",
      "Inserting between: (1141,1284) and (1067,1269)\n",
      "Now handling: VertexType.MERGE\n",
      "Now handling: VertexType.REGULAR_LEFT\n",
      "Now handling: VertexType.MERGE\n",
      "Inserting between: (1087,1267) and (1217,1260)\n"
     ]
    },
    {
     "ename": "KeyboardInterrupt",
     "evalue": "",
     "output_type": "error",
     "traceback": [
      "\u001b[1;31m---------------------------------------------------------------------------\u001b[0m",
      "\u001b[1;31mKeyboardInterrupt\u001b[0m                         Traceback (most recent call last)",
      "Cell \u001b[1;32mIn[1], line 13\u001b[0m\n\u001b[0;32m     10\u001b[0m polygon_DCEL \u001b[39m=\u001b[39m DCEL(polygon[\u001b[39m\"\u001b[39m\u001b[39mouter_boundary\u001b[39m\u001b[39m\"\u001b[39m], polygon[\u001b[39m\"\u001b[39m\u001b[39mholes\u001b[39m\u001b[39m\"\u001b[39m])\n\u001b[0;32m     11\u001b[0m \u001b[39m#polygon = {\"outer_boundary\": [{\"x\": 10, \"y\": 10}, {\"x\": 7, \"y\": 9}, {\"x\": 6, \"y\": 6}, {\"x\": 9, \"y\": 2}, {\"x\": 11, \"y\": 0}, {\"x\": 14, \"y\": 4}, {\"x\": 15, \"y\":12}, {\"x\": 12, \"y\":9}], \"holes\": []}\u001b[39;00m\n\u001b[0;32m     12\u001b[0m \u001b[39m#polygon_DCEL = DCEL([{\"x\": 10, \"y\": 10}, {\"x\": 7, \"y\": 9}, {\"x\": 6, \"y\": 6}, {\"x\": 9, \"y\": 2}, {\"x\": 11, \"y\": 0}, {\"x\": 14, \"y\": 4}, {\"x\": 15, \"y\":12}, {\"x\": 12, \"y\":9}], [])\u001b[39;00m\n\u001b[1;32m---> 13\u001b[0m makeMonotone(polygon_DCEL)\n\u001b[0;32m     15\u001b[0m drawPolygon(polygon, polygon_DCEL\u001b[39m.\u001b[39mformat_solution(), resolution\u001b[39m=\u001b[39m\u001b[39m10\u001b[39m)\n\u001b[0;32m     16\u001b[0m dcel \u001b[39m=\u001b[39m polygon_DCEL\n",
      "File \u001b[1;32mc:\\Users\\daanb\\Desktop\\mcs\\y1\\q2\\algo geo\\2ima15\\algorithms\\..\\algorithms\\MakeMonotone.py:67\u001b[0m, in \u001b[0;36mmakeMonotone\u001b[1;34m(dcel)\u001b[0m\n\u001b[0;32m     65\u001b[0m     vertex \u001b[39m=\u001b[39m vertices\u001b[39m.\u001b[39mpop()\n\u001b[0;32m     66\u001b[0m     \u001b[39mprint\u001b[39m(\u001b[39m\"\u001b[39m\u001b[39mNow handling: \u001b[39m\u001b[39m\"\u001b[39m \u001b[39m+\u001b[39m \u001b[39mstr\u001b[39m(vertex\u001b[39m.\u001b[39mtype))\n\u001b[1;32m---> 67\u001b[0m     handleVertex(vertex)\n\u001b[0;32m     68\u001b[0m \u001b[39mreturn\u001b[39;00m dcel\n",
      "File \u001b[1;32mc:\\Users\\daanb\\Desktop\\mcs\\y1\\q2\\algo geo\\2ima15\\algorithms\\..\\algorithms\\MakeMonotone.py:38\u001b[0m, in \u001b[0;36mmakeMonotone.<locals>.handleVertex\u001b[1;34m(vertex)\u001b[0m\n\u001b[0;32m     36\u001b[0m edgePrime \u001b[39m=\u001b[39m status\u001b[39m.\u001b[39mleftEdgeFinder(vertex)\n\u001b[0;32m     37\u001b[0m \u001b[39mif\u001b[39;00m edgePrime\u001b[39m.\u001b[39mhelper \u001b[39mand\u001b[39;00m edgePrime\u001b[39m.\u001b[39mhelper\u001b[39m.\u001b[39mtype \u001b[39m==\u001b[39m VertexType\u001b[39m.\u001b[39mMERGE: \u001b[39m#TODO: idk if this is correct\u001b[39;00m\n\u001b[1;32m---> 38\u001b[0m     dcel\u001b[39m.\u001b[39;49minsert_edge(edgePrime\u001b[39m.\u001b[39;49mhelper, vertex)\n\u001b[0;32m     39\u001b[0m edgePrime\u001b[39m.\u001b[39mhelper \u001b[39m=\u001b[39m vertex\n\u001b[0;32m     40\u001b[0m edgePrime\u001b[39m.\u001b[39mtwin\u001b[39m.\u001b[39mhelper \u001b[39m=\u001b[39m vertex\n",
      "File \u001b[1;32mc:\\Users\\daanb\\Desktop\\mcs\\y1\\q2\\algo geo\\2ima15\\algorithms\\..\\datastructures\\DCEL.py:162\u001b[0m, in \u001b[0;36mDCEL.insert_edge\u001b[1;34m(self, v1, v2)\u001b[0m\n\u001b[0;32m    160\u001b[0m \u001b[39m# Find the outgoing half edge of v2 that comes after the new edge in counter-clockwise order\u001b[39;00m\n\u001b[0;32m    161\u001b[0m v2_edge_incident_to_f \u001b[39m=\u001b[39m v2\u001b[39m.\u001b[39mincident_half_edge\n\u001b[1;32m--> 162\u001b[0m \u001b[39mwhile\u001b[39;00m v2_edge_incident_to_f\u001b[39m.\u001b[39mincident_face \u001b[39m!=\u001b[39m f:\n\u001b[0;32m    163\u001b[0m     v2_edge_incident_to_f \u001b[39m=\u001b[39m v2_edge_incident_to_f\u001b[39m.\u001b[39mtwin\u001b[39m.\u001b[39mnext\n\u001b[0;32m    165\u001b[0m h1 \u001b[39m=\u001b[39m HalfEdge(v1)\n",
      "\u001b[1;31mKeyboardInterrupt\u001b[0m: "
     ]
    }
   ],
   "source": [
    "import sys\n",
    "# tell interpreter where to look\n",
    "sys.path.insert(0,\"..\")\n",
    "from datastructures.Rationals import Rationals as rat\n",
    "from datastructures.DCEL import *\n",
    "from visualize.VisualizePolygons import *\n",
    "from algorithms.MakeMonotone import *\n",
    "f = open(\"../instances/ccheese142.instance.json\")\n",
    "polygon = json.load(f)\n",
    "polygon_DCEL = DCEL(polygon[\"outer_boundary\"], polygon[\"holes\"])\n",
    "#polygon = {\"outer_boundary\": [{\"x\": 10, \"y\": 10}, {\"x\": 7, \"y\": 9}, {\"x\": 6, \"y\": 6}, {\"x\": 9, \"y\": 2}, {\"x\": 11, \"y\": 0}, {\"x\": 14, \"y\": 4}, {\"x\": 15, \"y\":12}, {\"x\": 12, \"y\":9}], \"holes\": []}\n",
    "#polygon_DCEL = DCEL([{\"x\": 10, \"y\": 10}, {\"x\": 7, \"y\": 9}, {\"x\": 6, \"y\": 6}, {\"x\": 9, \"y\": 2}, {\"x\": 11, \"y\": 0}, {\"x\": 14, \"y\": 4}, {\"x\": 15, \"y\":12}, {\"x\": 12, \"y\":9}], [])\n",
    "makeMonotone(polygon_DCEL)\n",
    "\n",
    "drawPolygon(polygon, polygon_DCEL.format_solution(), resolution=10)\n",
    "dcel = polygon_DCEL\n",
    "for v in dcel.vertices:\n",
    "    if v.x == None or v.y == None or v.incident_half_edge == None:\n",
    "        raise Exception(\"Nonevalue for vertex attribute\")\n",
    "    \n",
    "    if not v.incident_half_edge.twin.next.origin == v:\n",
    "        raise Exception(\"Incorrect DCEL\")\n",
    "\n",
    "for h in dcel.half_edges:\n",
    "    if h.origin == None or h.twin == None or h.incident_face == None or h.next == None or h.prev == None:\n",
    "        raise Exception(\"Nonevalue for half edge attribute\")\n",
    "    \n",
    "    if h.next.prev != h:\n",
    "        raise Exception(\"Prev-next issue!\")\n",
    "    if h.twin.twin != h:\n",
    "        raise Exception(\"Prev-next issue!\")"
   ]
  },
  {
   "cell_type": "code",
   "execution_count": null,
   "metadata": {},
   "outputs": [],
   "source": [
    "drawPolygon(polygon, polygon_DCEL.format_solution(), resolution=10)"
   ]
  }
 ],
 "metadata": {
  "kernelspec": {
   "display_name": "Python 3",
   "language": "python",
   "name": "python3"
  },
  "language_info": {
   "codemirror_mode": {
    "name": "ipython",
    "version": 3
   },
   "file_extension": ".py",
   "mimetype": "text/x-python",
   "name": "python",
   "nbconvert_exporter": "python",
   "pygments_lexer": "ipython3",
   "version": "3.11.1"
  },
  "orig_nbformat": 4,
  "vscode": {
   "interpreter": {
    "hash": "64e997b79063279d6464de730f92a57cb784b012f5100ecd3be3b4ab936ddad8"
   }
  }
 },
 "nbformat": 4,
 "nbformat_minor": 2
}
