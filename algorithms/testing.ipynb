{
 "cells": [
  {
   "cell_type": "code",
   "execution_count": 1,
   "metadata": {},
   "outputs": [
    {
     "name": "stdout",
     "output_type": "stream",
     "text": [
      "False\n"
     ]
    },
    {
     "ename": "AttributeError",
     "evalue": "'NoneType' object has no attribute 'leftEdgeFinder'",
     "output_type": "error",
     "traceback": [
      "\u001b[1;31m---------------------------------------------------------------------------\u001b[0m",
      "\u001b[1;31mAttributeError\u001b[0m                            Traceback (most recent call last)",
      "Cell \u001b[1;32mIn[1], line 15\u001b[0m\n\u001b[0;32m     13\u001b[0m eventList\u001b[39m.\u001b[39minsert(dcel\u001b[39m.\u001b[39mhalf_edges[\u001b[39m0\u001b[39m],\u001b[39m0\u001b[39m)\n\u001b[0;32m     14\u001b[0m eventList\u001b[39m.\u001b[39minsert(dcel\u001b[39m.\u001b[39mhalf_edges[\u001b[39m2\u001b[39m],\u001b[39m0\u001b[39m)\n\u001b[1;32m---> 15\u001b[0m eventList\u001b[39m.\u001b[39;49mleftEdgeFinder(vertex)\n",
      "File \u001b[1;32md:\\users\\documents\\geometric\\2ima15\\algorithms\\..\\datastructures\\Edgebst.py:71\u001b[0m, in \u001b[0;36mEdgebstNode.leftEdgeFinder\u001b[1;34m(self, vertex)\u001b[0m\n\u001b[0;32m     69\u001b[0m         \u001b[39mreturn\u001b[39;00m \u001b[39mself\u001b[39m\u001b[39m.\u001b[39mval\n\u001b[0;32m     70\u001b[0m \u001b[39melse\u001b[39;00m:\n\u001b[1;32m---> 71\u001b[0m     \u001b[39mreturn\u001b[39;00m \u001b[39mself\u001b[39;49m\u001b[39m.\u001b[39;49mleft\u001b[39m.\u001b[39;49mleftEdgeFinder(vertex)\n",
      "\u001b[1;31mAttributeError\u001b[0m: 'NoneType' object has no attribute 'leftEdgeFinder'"
     ]
    }
   ],
   "source": [
    "import sys\n",
    "# tell interpreter where to look\n",
    "sys.path.insert(0,\"..\")\n",
    "from datastructures.Rationals import *\n",
    "from datastructures.Edgebst import *\n",
    "from datastructures.DCEL import *\n",
    "f1 = Rationals(1,2)\n",
    "f2 = Rationals(2,1)\n",
    "print(f1 == f2)\n",
    "dcel = DCEL([{\"x\": 0, \"y\": 0}, {\"x\": 1, \"y\": 1}, {\"x\": 2, \"y\": 2}], [[{\"x\": 0, \"y\": 0}, {\"x\": 1, \"y\": 1}, {\"x\": 2, \"y\": 2}], [{\"x\": 0, \"y\": 0}, {\"x\": 1, \"y\": 1}, {\"x\": 2, \"y\": 2}]])\n",
    "vertex = Vertex(1,1)\n",
    "eventList = EdgebstNode()\n",
    "eventList.insert(dcel.half_edges[0],0)\n",
    "eventList.insert(dcel.half_edges[2],0)\n",
    "eventList.leftEdgeFinder(vertex)\n",
    "\n",
    "\n"
   ]
  }
 ],
 "metadata": {
  "kernelspec": {
   "display_name": "Python 3",
   "language": "python",
   "name": "python3"
  },
  "language_info": {
   "codemirror_mode": {
    "name": "ipython",
    "version": 3
   },
   "file_extension": ".py",
   "mimetype": "text/x-python",
   "name": "python",
   "nbconvert_exporter": "python",
   "pygments_lexer": "ipython3",
   "version": "3.11.0 (main, Oct 24 2022, 18:26:48) [MSC v.1933 64 bit (AMD64)]"
  },
  "orig_nbformat": 4,
  "vscode": {
   "interpreter": {
    "hash": "aa8dd774d8f4eabbb375d1c4efecd7f282fb2164b5e88958fc24047a302ff603"
   }
  }
 },
 "nbformat": 4,
 "nbformat_minor": 2
}
