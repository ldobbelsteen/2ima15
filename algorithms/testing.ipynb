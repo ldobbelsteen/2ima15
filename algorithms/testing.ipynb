{
 "cells": [
  {
   "cell_type": "code",
   "execution_count": 1,
   "metadata": {},
   "outputs": [
    {
     "ename": "AttributeError",
     "evalue": "'Rationals' object has no attribute 'num'",
     "output_type": "error",
     "traceback": [
      "\u001b[1;31m---------------------------------------------------------------------------\u001b[0m",
      "\u001b[1;31mAttributeError\u001b[0m                            Traceback (most recent call last)",
      "Cell \u001b[1;32mIn[1], line 5\u001b[0m\n\u001b[0;32m      3\u001b[0m sys\u001b[39m.\u001b[39mpath\u001b[39m.\u001b[39minsert(\u001b[39m0\u001b[39m,\u001b[39m\"\u001b[39m\u001b[39m..\u001b[39m\u001b[39m\"\u001b[39m)\n\u001b[0;32m      4\u001b[0m \u001b[39mfrom\u001b[39;00m \u001b[39mdatastructures\u001b[39;00m\u001b[39m.\u001b[39;00m\u001b[39mRationals\u001b[39;00m \u001b[39mimport\u001b[39;00m \u001b[39m*\u001b[39m\n\u001b[1;32m----> 5\u001b[0m f1 \u001b[39m=\u001b[39m Rationals(\u001b[39m1\u001b[39;49m,\u001b[39m2\u001b[39;49m)\n\u001b[0;32m      6\u001b[0m f2 \u001b[39m=\u001b[39m Rationals(\u001b[39m2\u001b[39m,\u001b[39m1\u001b[39m)\n\u001b[0;32m      7\u001b[0m \u001b[39mprint\u001b[39m(f1 \u001b[39m==\u001b[39m f2)\n",
      "File \u001b[1;32mc:\\Users\\Jeroen\\Documents\\2ima15\\algorithms\\..\\datastructures\\Rationals.py:5\u001b[0m, in \u001b[0;36mRationals.__init__\u001b[1;34m(self, numerator, denominator)\u001b[0m\n\u001b[0;32m      4\u001b[0m \u001b[39mdef\u001b[39;00m \u001b[39m__init__\u001b[39m(\u001b[39mself\u001b[39m,numerator,denominator\u001b[39m=\u001b[39m\u001b[39m1\u001b[39m):\n\u001b[1;32m----> 5\u001b[0m     gcd \u001b[39m=\u001b[39m math\u001b[39m.\u001b[39mgcd(\u001b[39mself\u001b[39;49m\u001b[39m.\u001b[39;49mnum ,\u001b[39mself\u001b[39m\u001b[39m.\u001b[39mden)\n\u001b[0;32m      6\u001b[0m     \u001b[39mself\u001b[39m\u001b[39m.\u001b[39mnum \u001b[39m=\u001b[39m numerator \u001b[39m/\u001b[39m\u001b[39m/\u001b[39m gcd\n\u001b[0;32m      7\u001b[0m     \u001b[39mself\u001b[39m\u001b[39m.\u001b[39mden \u001b[39m=\u001b[39m denominator \u001b[39m/\u001b[39m\u001b[39m/\u001b[39m gcd\n",
      "\u001b[1;31mAttributeError\u001b[0m: 'Rationals' object has no attribute 'num'"
     ]
    }
   ],
   "source": [
    "import sys\n",
    "# tell interpreter where to look\n",
    "sys.path.insert(0,\"..\")\n",
    "from datastructures.Rationals import *\n",
    "f1 = Rationals(1,2)\n",
    "f2 = Rationals(2,1)\n",
    "print(f1 == f2)\n",
    "print(f1)\n",
    "print(f1 * f2 == Rationals(2,2))\n",
    "print(f1 + f2)"
   ]
  }
 ],
 "metadata": {
  "kernelspec": {
   "display_name": "Python 3",
   "language": "python",
   "name": "python3"
  },
  "language_info": {
   "codemirror_mode": {
    "name": "ipython",
    "version": 3
   },
   "file_extension": ".py",
   "mimetype": "text/x-python",
   "name": "python",
   "nbconvert_exporter": "python",
   "pygments_lexer": "ipython3",
   "version": "3.11.0"
  },
  "orig_nbformat": 4,
  "vscode": {
   "interpreter": {
    "hash": "aa8dd774d8f4eabbb375d1c4efecd7f282fb2164b5e88958fc24047a302ff603"
   }
  }
 },
 "nbformat": 4,
 "nbformat_minor": 2
}
