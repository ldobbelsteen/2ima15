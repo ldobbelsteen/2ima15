{
 "cells": [
  {
   "cell_type": "code",
   "execution_count": 5,
   "metadata": {},
   "outputs": [
    {
     "ename": "AttributeError",
     "evalue": "'NoneType' object has no attribute 'type'",
     "output_type": "error",
     "traceback": [
      "\u001b[1;31m---------------------------------------------------------------------------\u001b[0m",
      "\u001b[1;31mAttributeError\u001b[0m                            Traceback (most recent call last)",
      "Cell \u001b[1;32mIn[5], line 13\u001b[0m\n\u001b[0;32m     11\u001b[0m polygon \u001b[39m=\u001b[39m {\u001b[39m\"\u001b[39m\u001b[39mouter_boundary\u001b[39m\u001b[39m\"\u001b[39m: [{\u001b[39m\"\u001b[39m\u001b[39mx\u001b[39m\u001b[39m\"\u001b[39m: \u001b[39m10\u001b[39m, \u001b[39m\"\u001b[39m\u001b[39my\u001b[39m\u001b[39m\"\u001b[39m: \u001b[39m10\u001b[39m}, {\u001b[39m\"\u001b[39m\u001b[39mx\u001b[39m\u001b[39m\"\u001b[39m: \u001b[39m7\u001b[39m, \u001b[39m\"\u001b[39m\u001b[39my\u001b[39m\u001b[39m\"\u001b[39m: \u001b[39m9\u001b[39m}, {\u001b[39m\"\u001b[39m\u001b[39mx\u001b[39m\u001b[39m\"\u001b[39m: \u001b[39m6\u001b[39m, \u001b[39m\"\u001b[39m\u001b[39my\u001b[39m\u001b[39m\"\u001b[39m: \u001b[39m6\u001b[39m}, {\u001b[39m\"\u001b[39m\u001b[39mx\u001b[39m\u001b[39m\"\u001b[39m: \u001b[39m9\u001b[39m, \u001b[39m\"\u001b[39m\u001b[39my\u001b[39m\u001b[39m\"\u001b[39m: \u001b[39m2\u001b[39m}, {\u001b[39m\"\u001b[39m\u001b[39mx\u001b[39m\u001b[39m\"\u001b[39m: \u001b[39m11\u001b[39m, \u001b[39m\"\u001b[39m\u001b[39my\u001b[39m\u001b[39m\"\u001b[39m: \u001b[39m0\u001b[39m}, {\u001b[39m\"\u001b[39m\u001b[39mx\u001b[39m\u001b[39m\"\u001b[39m: \u001b[39m14\u001b[39m, \u001b[39m\"\u001b[39m\u001b[39my\u001b[39m\u001b[39m\"\u001b[39m: \u001b[39m4\u001b[39m}], \u001b[39m\"\u001b[39m\u001b[39mholes\u001b[39m\u001b[39m\"\u001b[39m: []}\n\u001b[0;32m     12\u001b[0m polygon_DCEL \u001b[39m=\u001b[39m DCEL([{\u001b[39m\"\u001b[39m\u001b[39mx\u001b[39m\u001b[39m\"\u001b[39m: \u001b[39m10\u001b[39m, \u001b[39m\"\u001b[39m\u001b[39my\u001b[39m\u001b[39m\"\u001b[39m: \u001b[39m10\u001b[39m}, {\u001b[39m\"\u001b[39m\u001b[39mx\u001b[39m\u001b[39m\"\u001b[39m: \u001b[39m7\u001b[39m, \u001b[39m\"\u001b[39m\u001b[39my\u001b[39m\u001b[39m\"\u001b[39m: \u001b[39m9\u001b[39m}, {\u001b[39m\"\u001b[39m\u001b[39mx\u001b[39m\u001b[39m\"\u001b[39m: \u001b[39m6\u001b[39m, \u001b[39m\"\u001b[39m\u001b[39my\u001b[39m\u001b[39m\"\u001b[39m: \u001b[39m6\u001b[39m}, {\u001b[39m\"\u001b[39m\u001b[39mx\u001b[39m\u001b[39m\"\u001b[39m: \u001b[39m9\u001b[39m, \u001b[39m\"\u001b[39m\u001b[39my\u001b[39m\u001b[39m\"\u001b[39m: \u001b[39m2\u001b[39m}, {\u001b[39m\"\u001b[39m\u001b[39mx\u001b[39m\u001b[39m\"\u001b[39m: \u001b[39m11\u001b[39m, \u001b[39m\"\u001b[39m\u001b[39my\u001b[39m\u001b[39m\"\u001b[39m: \u001b[39m0\u001b[39m}, {\u001b[39m\"\u001b[39m\u001b[39mx\u001b[39m\u001b[39m\"\u001b[39m: \u001b[39m14\u001b[39m, \u001b[39m\"\u001b[39m\u001b[39my\u001b[39m\u001b[39m\"\u001b[39m: \u001b[39m4\u001b[39m}], [])\n\u001b[1;32m---> 13\u001b[0m makeMonotone(polygon_DCEL)\n\u001b[0;32m     15\u001b[0m drawPolygon(polygon, polygon_DCEL\u001b[39m.\u001b[39mformat_solution(), resolution\u001b[39m=\u001b[39m\u001b[39m100\u001b[39m)\n\u001b[0;32m     16\u001b[0m dcel \u001b[39m=\u001b[39m polygon_DCEL\n",
      "File \u001b[1;32mc:\\Users\\daanb\\Desktop\\mcs\\y1\\q2\\algo geo\\2ima15\\algorithms\\..\\algorithms\\MakeMonotone.py:62\u001b[0m, in \u001b[0;36mmakeMonotone\u001b[1;34m(dcel)\u001b[0m\n\u001b[0;32m     60\u001b[0m \u001b[39mwhile\u001b[39;00m \u001b[39mlen\u001b[39m(vertices) \u001b[39m!=\u001b[39m \u001b[39m0\u001b[39m:\n\u001b[0;32m     61\u001b[0m     vertex \u001b[39m=\u001b[39m vertices\u001b[39m.\u001b[39mpop()\n\u001b[1;32m---> 62\u001b[0m     handleVertex(vertex)\n\u001b[0;32m     63\u001b[0m \u001b[39mreturn\u001b[39;00m dcel\n",
      "File \u001b[1;32mc:\\Users\\daanb\\Desktop\\mcs\\y1\\q2\\algo geo\\2ima15\\algorithms\\..\\algorithms\\MakeMonotone.py:17\u001b[0m, in \u001b[0;36mmakeMonotone.<locals>.handleVertex\u001b[1;34m(vertex)\u001b[0m\n\u001b[0;32m     14\u001b[0m \u001b[39mif\u001b[39;00m vertex\u001b[39m.\u001b[39mtype \u001b[39m==\u001b[39m VertexType\u001b[39m.\u001b[39mEND:\n\u001b[0;32m     15\u001b[0m      \u001b[39m# we state the left edge is the prev of incident edge because of the counter clock wise rotation.\u001b[39;00m\n\u001b[0;32m     16\u001b[0m     edge \u001b[39m=\u001b[39m vertex\u001b[39m.\u001b[39mincident_half_edge\u001b[39m.\u001b[39mprev\n\u001b[1;32m---> 17\u001b[0m     \u001b[39mif\u001b[39;00m edge\u001b[39m.\u001b[39;49mhelper\u001b[39m.\u001b[39;49mtype \u001b[39m==\u001b[39m VertexType\u001b[39m.\u001b[39mMERGE:\n\u001b[0;32m     18\u001b[0m         dcel\u001b[39m.\u001b[39minsert_edge(edge\u001b[39m.\u001b[39mhelper, vertex)\n\u001b[0;32m     19\u001b[0m     status\u001b[39m.\u001b[39mdelete(edge,vertex\u001b[39m.\u001b[39my)\n",
      "\u001b[1;31mAttributeError\u001b[0m: 'NoneType' object has no attribute 'type'"
     ]
    }
   ],
   "source": [
    "import sys\n",
    "# tell interpreter where to look\n",
    "sys.path.insert(0,\"..\")\n",
    "from datastructures.Rationals import Rationals as rat\n",
    "from datastructures.DCEL import *\n",
    "from visualize.VisualizePolygons import *\n",
    "from algorithms.MakeMonotone import *\n",
    "# f = open(\"../instances/socg60.instance.json\")\n",
    "# polygon = json.load(f)\n",
    "# polygon_DCEL = DCEL(polygon[\"outer_boundary\"], polygon[\"holes\"])\n",
    "polygon = {\"outer_boundary\": [{\"x\": 10, \"y\": 10}, {\"x\": 7, \"y\": 9}, {\"x\": 6, \"y\": 6}, {\"x\": 9, \"y\": 2}, {\"x\": 11, \"y\": 0}, {\"x\": 14, \"y\": 4}], \"holes\": []}\n",
    "polygon_DCEL = DCEL([{\"x\": 10, \"y\": 10}, {\"x\": 7, \"y\": 9}, {\"x\": 6, \"y\": 6}, {\"x\": 9, \"y\": 2}, {\"x\": 11, \"y\": 0}, {\"x\": 14, \"y\": 4}], [])\n",
    "for v in polygon_DCEL.vertices:\n",
    "    print(v.type)\n",
    "makeMonotone(polygon_DCEL)\n",
    "\n",
    "drawPolygon(polygon, polygon_DCEL.format_solution(), resolution=100)\n",
    "dcel = polygon_DCEL\n",
    "for v in dcel.vertices:\n",
    "    if v.x == None or v.y == None or v.incident_half_edge == None:\n",
    "        raise Exception(\"Nonevalue for vertex attribute\")\n",
    "    \n",
    "    if not v.incident_half_edge.twin.next.origin == v:\n",
    "        raise Exception(\"Incorrect DCEL\")\n",
    "\n",
    "for h in dcel.half_edges:\n",
    "    if h.origin == None or h.twin == None or h.incident_face == None or h.next == None or h.prev == None:\n",
    "        raise Exception(\"Nonevalue for half edge attribute\")\n",
    "    \n",
    "    if h.next.prev != h:\n",
    "        raise Exception(\"Prev-next issue!\")\n",
    "    if h.twin.twin != h:\n",
    "        raise Exception(\"Prev-next issue!\")"
   ]
  }
 ],
 "metadata": {
  "kernelspec": {
   "display_name": "Python 3",
   "language": "python",
   "name": "python3"
  },
  "language_info": {
   "codemirror_mode": {
    "name": "ipython",
    "version": 3
   },
   "file_extension": ".py",
   "mimetype": "text/x-python",
   "name": "python",
   "nbconvert_exporter": "python",
   "pygments_lexer": "ipython3",
   "version": "3.11.1"
  },
  "orig_nbformat": 4,
  "vscode": {
   "interpreter": {
    "hash": "64e997b79063279d6464de730f92a57cb784b012f5100ecd3be3b4ab936ddad8"
   }
  }
 },
 "nbformat": 4,
 "nbformat_minor": 2
}
