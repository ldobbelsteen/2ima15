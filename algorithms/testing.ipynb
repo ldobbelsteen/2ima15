{
 "cells": [
  {
   "cell_type": "code",
   "execution_count": 1,
   "metadata": {},
   "outputs": [],
   "source": [
    "import sys\n",
    "# tell interpreter where to look\n",
    "sys.path.insert(0,\"..\")\n",
    "from datastructures.Rationals import Rationals as rat\n",
    "from datastructures.Edgebst import *\n",
    "from datastructures.DCEL import *\n",
    "from visualize.VisualizePolygons import *\n",
    "from algorithms.MakeMonotone import *\n",
    "\n",
    "f = open(\"../instances/ccheese142.instance.json\")\n",
    "polygon = json.load(f)\n",
    "polygon_DCEL = DCEL(polygon[\"outer_boundary\"], polygon[\"holes\"])\n",
    "makeMonotone(polygon_DCEL)\n",
    "polygon_DCEL.recompute_faces()\n",
    "drawPolygon(polygon, solution=polygon_DCEL.format_solution(), resolution=10)\n",
    "\n",
    "# test DCEL for validity\n",
    "dcel = polygon_DCEL\n",
    "for v in dcel.vertices:\n",
    "    if v.x == None or v.y == None or v.incident_half_edge == None:\n",
    "        raise Exception(\"Nonevalue for vertex attribute\")\n",
    "    \n",
    "    if not v.incident_half_edge.twin.next.origin == v:\n",
    "        raise Exception(\"Incorrect DCEL\")\n",
    "\n",
    "for h in dcel.half_edges:\n",
    "    if h.origin == None or h.twin == None or h.incident_face == None or h.next == None or h.prev == None:\n",
    "        raise Exception(\"Nonevalue for half edge attribute\")\n",
    "    \n",
    "    if h.next.prev != h:\n",
    "        raise Exception(\"Prev-next issue!\")\n",
    "    if h.twin.twin != h:\n",
    "        raise Exception(\"Prev-next issue!\")"
   ]
  }
 ],
 "metadata": {
  "kernelspec": {
   "display_name": "Python 3",
   "language": "python",
   "name": "python3"
  },
  "language_info": {
   "codemirror_mode": {
    "name": "ipython",
    "version": 3
   },
   "file_extension": ".py",
   "mimetype": "text/x-python",
   "name": "python",
   "nbconvert_exporter": "python",
   "pygments_lexer": "ipython3",
   "version": "3.11.1"
  },
  "orig_nbformat": 4,
  "vscode": {
   "interpreter": {
    "hash": "0c22aca871109bb55c3c29181730e5e480ec832b1a6142f41547c31e09081f02"
   }
  }
 },
 "nbformat": 4,
 "nbformat_minor": 2
}
